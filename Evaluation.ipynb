{
 "cells": [
  {
   "cell_type": "markdown",
   "metadata": {},
   "source": [
    "### Evaluating performance of different classifiers based on patient metadata\n",
    "\n",
    "- Age\n",
    "- Sex\n",
    "- Diagnosis source\n",
    "- Lesion location"
   ]
  },
  {
   "cell_type": "code",
   "execution_count": null,
   "metadata": {},
   "outputs": [],
   "source": []
  },
  {
   "cell_type": "code",
   "execution_count": null,
   "metadata": {},
   "outputs": [],
   "source": []
  },
  {
   "cell_type": "code",
   "execution_count": 154,
   "metadata": {},
   "outputs": [],
   "source": [
    "import pandas as pd\n",
    "import numpy as np\n",
    "import matplotlib.pyplot as plt\n",
    "\n",
    "import warnings\n",
    "warnings.simplefilter('ignore')\n",
    "\n",
    "from sklearn.metrics import precision_score, recall_score, accuracy_score\n",
    "\n",
    "from scipy.stats import ttest_ind, chi2_contingency"
   ]
  },
  {
   "cell_type": "code",
   "execution_count": 30,
   "metadata": {},
   "outputs": [],
   "source": [
    "df_pt = pd.read_csv('Data/archive/HAM10000_metadata.csv')"
   ]
  },
  {
   "cell_type": "code",
   "execution_count": 32,
   "metadata": {},
   "outputs": [
    {
     "data": {
      "text/html": [
       "<div>\n",
       "<style scoped>\n",
       "    .dataframe tbody tr th:only-of-type {\n",
       "        vertical-align: middle;\n",
       "    }\n",
       "\n",
       "    .dataframe tbody tr th {\n",
       "        vertical-align: top;\n",
       "    }\n",
       "\n",
       "    .dataframe thead th {\n",
       "        text-align: right;\n",
       "    }\n",
       "</style>\n",
       "<table border=\"1\" class=\"dataframe\">\n",
       "  <thead>\n",
       "    <tr style=\"text-align: right;\">\n",
       "      <th></th>\n",
       "      <th>lesion_id</th>\n",
       "      <th>image_id</th>\n",
       "      <th>dx</th>\n",
       "      <th>dx_type</th>\n",
       "      <th>age</th>\n",
       "      <th>sex</th>\n",
       "      <th>localization</th>\n",
       "    </tr>\n",
       "  </thead>\n",
       "  <tbody>\n",
       "    <tr>\n",
       "      <th>0</th>\n",
       "      <td>HAM_0000118</td>\n",
       "      <td>ISIC_0027419</td>\n",
       "      <td>bkl</td>\n",
       "      <td>histo</td>\n",
       "      <td>80.0</td>\n",
       "      <td>male</td>\n",
       "      <td>scalp</td>\n",
       "    </tr>\n",
       "    <tr>\n",
       "      <th>1</th>\n",
       "      <td>HAM_0000118</td>\n",
       "      <td>ISIC_0025030</td>\n",
       "      <td>bkl</td>\n",
       "      <td>histo</td>\n",
       "      <td>80.0</td>\n",
       "      <td>male</td>\n",
       "      <td>scalp</td>\n",
       "    </tr>\n",
       "    <tr>\n",
       "      <th>2</th>\n",
       "      <td>HAM_0002730</td>\n",
       "      <td>ISIC_0026769</td>\n",
       "      <td>bkl</td>\n",
       "      <td>histo</td>\n",
       "      <td>80.0</td>\n",
       "      <td>male</td>\n",
       "      <td>scalp</td>\n",
       "    </tr>\n",
       "    <tr>\n",
       "      <th>3</th>\n",
       "      <td>HAM_0002730</td>\n",
       "      <td>ISIC_0025661</td>\n",
       "      <td>bkl</td>\n",
       "      <td>histo</td>\n",
       "      <td>80.0</td>\n",
       "      <td>male</td>\n",
       "      <td>scalp</td>\n",
       "    </tr>\n",
       "    <tr>\n",
       "      <th>4</th>\n",
       "      <td>HAM_0001466</td>\n",
       "      <td>ISIC_0031633</td>\n",
       "      <td>bkl</td>\n",
       "      <td>histo</td>\n",
       "      <td>75.0</td>\n",
       "      <td>male</td>\n",
       "      <td>ear</td>\n",
       "    </tr>\n",
       "  </tbody>\n",
       "</table>\n",
       "</div>"
      ],
      "text/plain": [
       "     lesion_id      image_id   dx dx_type   age   sex localization\n",
       "0  HAM_0000118  ISIC_0027419  bkl   histo  80.0  male        scalp\n",
       "1  HAM_0000118  ISIC_0025030  bkl   histo  80.0  male        scalp\n",
       "2  HAM_0002730  ISIC_0026769  bkl   histo  80.0  male        scalp\n",
       "3  HAM_0002730  ISIC_0025661  bkl   histo  80.0  male        scalp\n",
       "4  HAM_0001466  ISIC_0031633  bkl   histo  75.0  male          ear"
      ]
     },
     "execution_count": 32,
     "metadata": {},
     "output_type": "execute_result"
    }
   ],
   "source": [
    "df_pt.head()"
   ]
  },
  {
   "cell_type": "code",
   "execution_count": 99,
   "metadata": {},
   "outputs": [
    {
     "data": {
      "text/plain": [
       "10015"
      ]
     },
     "execution_count": 99,
     "metadata": {},
     "output_type": "execute_result"
    }
   ],
   "source": [
    "len(df_pt['image_id'].unique())"
   ]
  },
  {
   "cell_type": "code",
   "execution_count": 100,
   "metadata": {},
   "outputs": [],
   "source": [
    "dx_counts = df_pt['dx'].value_counts()"
   ]
  },
  {
   "cell_type": "code",
   "execution_count": 101,
   "metadata": {},
   "outputs": [],
   "source": [
    "df_dx = df_pt[['image_id', 'dx']]\n",
    "\n",
    "np.random.seed(10)\n",
    "df_dx['pred_dx'] = np.random.choice(a=dx_counts.index, \n",
    "                             size=len(df_pt), \n",
    "                             p=(dx_counts.values/len(df_pt)),\n",
    "                             replace=True)"
   ]
  },
  {
   "cell_type": "code",
   "execution_count": 102,
   "metadata": {},
   "outputs": [
    {
     "data": {
      "text/plain": [
       "nv       0.669\n",
       "mel      0.111\n",
       "bkl      0.110\n",
       "bcc      0.051\n",
       "akiec    0.033\n",
       "vasc     0.014\n",
       "df       0.011\n",
       "Name: dx, dtype: float64"
      ]
     },
     "execution_count": 102,
     "metadata": {},
     "output_type": "execute_result"
    }
   ],
   "source": [
    "(dx_counts/len(df_pt)).round(3)"
   ]
  },
  {
   "cell_type": "markdown",
   "metadata": {},
   "source": [
    "Pretend this dataframe is some derived output from our classifiers:"
   ]
  },
  {
   "cell_type": "code",
   "execution_count": 103,
   "metadata": {},
   "outputs": [
    {
     "data": {
      "text/html": [
       "<div>\n",
       "<style scoped>\n",
       "    .dataframe tbody tr th:only-of-type {\n",
       "        vertical-align: middle;\n",
       "    }\n",
       "\n",
       "    .dataframe tbody tr th {\n",
       "        vertical-align: top;\n",
       "    }\n",
       "\n",
       "    .dataframe thead th {\n",
       "        text-align: right;\n",
       "    }\n",
       "</style>\n",
       "<table border=\"1\" class=\"dataframe\">\n",
       "  <thead>\n",
       "    <tr style=\"text-align: right;\">\n",
       "      <th></th>\n",
       "      <th>image_id</th>\n",
       "      <th>dx</th>\n",
       "      <th>pred_dx</th>\n",
       "    </tr>\n",
       "  </thead>\n",
       "  <tbody>\n",
       "    <tr>\n",
       "      <th>0</th>\n",
       "      <td>ISIC_0027419</td>\n",
       "      <td>bkl</td>\n",
       "      <td>mel</td>\n",
       "    </tr>\n",
       "    <tr>\n",
       "      <th>1</th>\n",
       "      <td>ISIC_0025030</td>\n",
       "      <td>bkl</td>\n",
       "      <td>nv</td>\n",
       "    </tr>\n",
       "    <tr>\n",
       "      <th>2</th>\n",
       "      <td>ISIC_0026769</td>\n",
       "      <td>bkl</td>\n",
       "      <td>nv</td>\n",
       "    </tr>\n",
       "    <tr>\n",
       "      <th>3</th>\n",
       "      <td>ISIC_0025661</td>\n",
       "      <td>bkl</td>\n",
       "      <td>mel</td>\n",
       "    </tr>\n",
       "    <tr>\n",
       "      <th>4</th>\n",
       "      <td>ISIC_0031633</td>\n",
       "      <td>bkl</td>\n",
       "      <td>nv</td>\n",
       "    </tr>\n",
       "    <tr>\n",
       "      <th>...</th>\n",
       "      <td>...</td>\n",
       "      <td>...</td>\n",
       "      <td>...</td>\n",
       "    </tr>\n",
       "    <tr>\n",
       "      <th>10010</th>\n",
       "      <td>ISIC_0033084</td>\n",
       "      <td>akiec</td>\n",
       "      <td>nv</td>\n",
       "    </tr>\n",
       "    <tr>\n",
       "      <th>10011</th>\n",
       "      <td>ISIC_0033550</td>\n",
       "      <td>akiec</td>\n",
       "      <td>nv</td>\n",
       "    </tr>\n",
       "    <tr>\n",
       "      <th>10012</th>\n",
       "      <td>ISIC_0033536</td>\n",
       "      <td>akiec</td>\n",
       "      <td>nv</td>\n",
       "    </tr>\n",
       "    <tr>\n",
       "      <th>10013</th>\n",
       "      <td>ISIC_0032854</td>\n",
       "      <td>akiec</td>\n",
       "      <td>bcc</td>\n",
       "    </tr>\n",
       "    <tr>\n",
       "      <th>10014</th>\n",
       "      <td>ISIC_0032258</td>\n",
       "      <td>mel</td>\n",
       "      <td>bkl</td>\n",
       "    </tr>\n",
       "  </tbody>\n",
       "</table>\n",
       "<p>10015 rows × 3 columns</p>\n",
       "</div>"
      ],
      "text/plain": [
       "           image_id     dx pred_dx\n",
       "0      ISIC_0027419    bkl     mel\n",
       "1      ISIC_0025030    bkl      nv\n",
       "2      ISIC_0026769    bkl      nv\n",
       "3      ISIC_0025661    bkl     mel\n",
       "4      ISIC_0031633    bkl      nv\n",
       "...             ...    ...     ...\n",
       "10010  ISIC_0033084  akiec      nv\n",
       "10011  ISIC_0033550  akiec      nv\n",
       "10012  ISIC_0033536  akiec      nv\n",
       "10013  ISIC_0032854  akiec     bcc\n",
       "10014  ISIC_0032258    mel     bkl\n",
       "\n",
       "[10015 rows x 3 columns]"
      ]
     },
     "execution_count": 103,
     "metadata": {},
     "output_type": "execute_result"
    }
   ],
   "source": [
    "df_dx"
   ]
  },
  {
   "cell_type": "markdown",
   "metadata": {},
   "source": [
    "Identify misclassifications"
   ]
  },
  {
   "cell_type": "code",
   "execution_count": 104,
   "metadata": {},
   "outputs": [],
   "source": [
    "df_dx['correct'] = (df_dx['dx'] == df_dx['pred_dx']).astype(int)\n"
   ]
  },
  {
   "cell_type": "code",
   "execution_count": 105,
   "metadata": {},
   "outputs": [
    {
     "data": {
      "text/plain": [
       "0    0.512531\n",
       "1    0.487469\n",
       "Name: correct, dtype: float64"
      ]
     },
     "execution_count": 105,
     "metadata": {},
     "output_type": "execute_result"
    }
   ],
   "source": [
    "df_dx['correct'].value_counts()/len(df_dx)"
   ]
  },
  {
   "cell_type": "markdown",
   "metadata": {},
   "source": [
    "Binning diagnoses into \"dangerous\" vs not"
   ]
  },
  {
   "cell_type": "code",
   "execution_count": 106,
   "metadata": {},
   "outputs": [],
   "source": [
    "df_dx['true_danger_dx'] = (df_dx['dx'].isin(['mel', 'bcc', 'akiec'])).astype(int)\n",
    "df_dx['pred_danger_dx'] = (df_dx['pred_dx'].isin(['mel', 'bcc', 'akiec'])).astype(int)\n",
    "df_dx['correct_danger'] = (df_dx['true_danger_dx'] == df_dx['pred_danger_dx']).astype(int)"
   ]
  },
  {
   "cell_type": "code",
   "execution_count": null,
   "metadata": {},
   "outputs": [],
   "source": []
  },
  {
   "cell_type": "code",
   "execution_count": 107,
   "metadata": {},
   "outputs": [
    {
     "data": {
      "text/plain": [
       "1    0.694958\n",
       "0    0.305042\n",
       "Name: correct_danger, dtype: float64"
      ]
     },
     "execution_count": 107,
     "metadata": {},
     "output_type": "execute_result"
    }
   ],
   "source": [
    "df_dx['correct_danger'].value_counts()/len(df_dx)"
   ]
  },
  {
   "cell_type": "code",
   "execution_count": 108,
   "metadata": {},
   "outputs": [
    {
     "data": {
      "text/html": [
       "<div>\n",
       "<style scoped>\n",
       "    .dataframe tbody tr th:only-of-type {\n",
       "        vertical-align: middle;\n",
       "    }\n",
       "\n",
       "    .dataframe tbody tr th {\n",
       "        vertical-align: top;\n",
       "    }\n",
       "\n",
       "    .dataframe thead th {\n",
       "        text-align: right;\n",
       "    }\n",
       "</style>\n",
       "<table border=\"1\" class=\"dataframe\">\n",
       "  <thead>\n",
       "    <tr style=\"text-align: right;\">\n",
       "      <th></th>\n",
       "      <th>image_id</th>\n",
       "      <th>dx</th>\n",
       "      <th>pred_dx</th>\n",
       "      <th>correct</th>\n",
       "      <th>true_danger_dx</th>\n",
       "      <th>pred_danger_dx</th>\n",
       "      <th>correct_danger</th>\n",
       "    </tr>\n",
       "  </thead>\n",
       "  <tbody>\n",
       "    <tr>\n",
       "      <th>0</th>\n",
       "      <td>ISIC_0027419</td>\n",
       "      <td>bkl</td>\n",
       "      <td>mel</td>\n",
       "      <td>0</td>\n",
       "      <td>0</td>\n",
       "      <td>1</td>\n",
       "      <td>0</td>\n",
       "    </tr>\n",
       "    <tr>\n",
       "      <th>1</th>\n",
       "      <td>ISIC_0025030</td>\n",
       "      <td>bkl</td>\n",
       "      <td>nv</td>\n",
       "      <td>0</td>\n",
       "      <td>0</td>\n",
       "      <td>0</td>\n",
       "      <td>1</td>\n",
       "    </tr>\n",
       "    <tr>\n",
       "      <th>2</th>\n",
       "      <td>ISIC_0026769</td>\n",
       "      <td>bkl</td>\n",
       "      <td>nv</td>\n",
       "      <td>0</td>\n",
       "      <td>0</td>\n",
       "      <td>0</td>\n",
       "      <td>1</td>\n",
       "    </tr>\n",
       "    <tr>\n",
       "      <th>3</th>\n",
       "      <td>ISIC_0025661</td>\n",
       "      <td>bkl</td>\n",
       "      <td>mel</td>\n",
       "      <td>0</td>\n",
       "      <td>0</td>\n",
       "      <td>1</td>\n",
       "      <td>0</td>\n",
       "    </tr>\n",
       "    <tr>\n",
       "      <th>4</th>\n",
       "      <td>ISIC_0031633</td>\n",
       "      <td>bkl</td>\n",
       "      <td>nv</td>\n",
       "      <td>0</td>\n",
       "      <td>0</td>\n",
       "      <td>0</td>\n",
       "      <td>1</td>\n",
       "    </tr>\n",
       "  </tbody>\n",
       "</table>\n",
       "</div>"
      ],
      "text/plain": [
       "       image_id   dx pred_dx  correct  true_danger_dx  pred_danger_dx  \\\n",
       "0  ISIC_0027419  bkl     mel        0               0               1   \n",
       "1  ISIC_0025030  bkl      nv        0               0               0   \n",
       "2  ISIC_0026769  bkl      nv        0               0               0   \n",
       "3  ISIC_0025661  bkl     mel        0               0               1   \n",
       "4  ISIC_0031633  bkl      nv        0               0               0   \n",
       "\n",
       "   correct_danger  \n",
       "0               0  \n",
       "1               1  \n",
       "2               1  \n",
       "3               0  \n",
       "4               1  "
      ]
     },
     "execution_count": 108,
     "metadata": {},
     "output_type": "execute_result"
    }
   ],
   "source": [
    "df_dx.head()"
   ]
  },
  {
   "cell_type": "markdown",
   "metadata": {},
   "source": [
    "#### Join with patient metadata"
   ]
  },
  {
   "cell_type": "code",
   "execution_count": 109,
   "metadata": {},
   "outputs": [
    {
     "data": {
      "text/html": [
       "<div>\n",
       "<style scoped>\n",
       "    .dataframe tbody tr th:only-of-type {\n",
       "        vertical-align: middle;\n",
       "    }\n",
       "\n",
       "    .dataframe tbody tr th {\n",
       "        vertical-align: top;\n",
       "    }\n",
       "\n",
       "    .dataframe thead th {\n",
       "        text-align: right;\n",
       "    }\n",
       "</style>\n",
       "<table border=\"1\" class=\"dataframe\">\n",
       "  <thead>\n",
       "    <tr style=\"text-align: right;\">\n",
       "      <th></th>\n",
       "      <th>image_id</th>\n",
       "      <th>dx</th>\n",
       "      <th>pred_dx</th>\n",
       "      <th>correct</th>\n",
       "      <th>true_danger_dx</th>\n",
       "      <th>pred_danger_dx</th>\n",
       "      <th>correct_danger</th>\n",
       "      <th>age</th>\n",
       "      <th>sex</th>\n",
       "      <th>localization</th>\n",
       "      <th>dx_type</th>\n",
       "    </tr>\n",
       "  </thead>\n",
       "  <tbody>\n",
       "    <tr>\n",
       "      <th>0</th>\n",
       "      <td>ISIC_0027419</td>\n",
       "      <td>bkl</td>\n",
       "      <td>mel</td>\n",
       "      <td>0</td>\n",
       "      <td>0</td>\n",
       "      <td>1</td>\n",
       "      <td>0</td>\n",
       "      <td>80.0</td>\n",
       "      <td>male</td>\n",
       "      <td>scalp</td>\n",
       "      <td>histo</td>\n",
       "    </tr>\n",
       "    <tr>\n",
       "      <th>1</th>\n",
       "      <td>ISIC_0025030</td>\n",
       "      <td>bkl</td>\n",
       "      <td>nv</td>\n",
       "      <td>0</td>\n",
       "      <td>0</td>\n",
       "      <td>0</td>\n",
       "      <td>1</td>\n",
       "      <td>80.0</td>\n",
       "      <td>male</td>\n",
       "      <td>scalp</td>\n",
       "      <td>histo</td>\n",
       "    </tr>\n",
       "    <tr>\n",
       "      <th>2</th>\n",
       "      <td>ISIC_0026769</td>\n",
       "      <td>bkl</td>\n",
       "      <td>nv</td>\n",
       "      <td>0</td>\n",
       "      <td>0</td>\n",
       "      <td>0</td>\n",
       "      <td>1</td>\n",
       "      <td>80.0</td>\n",
       "      <td>male</td>\n",
       "      <td>scalp</td>\n",
       "      <td>histo</td>\n",
       "    </tr>\n",
       "    <tr>\n",
       "      <th>3</th>\n",
       "      <td>ISIC_0025661</td>\n",
       "      <td>bkl</td>\n",
       "      <td>mel</td>\n",
       "      <td>0</td>\n",
       "      <td>0</td>\n",
       "      <td>1</td>\n",
       "      <td>0</td>\n",
       "      <td>80.0</td>\n",
       "      <td>male</td>\n",
       "      <td>scalp</td>\n",
       "      <td>histo</td>\n",
       "    </tr>\n",
       "    <tr>\n",
       "      <th>4</th>\n",
       "      <td>ISIC_0031633</td>\n",
       "      <td>bkl</td>\n",
       "      <td>nv</td>\n",
       "      <td>0</td>\n",
       "      <td>0</td>\n",
       "      <td>0</td>\n",
       "      <td>1</td>\n",
       "      <td>75.0</td>\n",
       "      <td>male</td>\n",
       "      <td>ear</td>\n",
       "      <td>histo</td>\n",
       "    </tr>\n",
       "  </tbody>\n",
       "</table>\n",
       "</div>"
      ],
      "text/plain": [
       "       image_id   dx pred_dx  correct  true_danger_dx  pred_danger_dx  \\\n",
       "0  ISIC_0027419  bkl     mel        0               0               1   \n",
       "1  ISIC_0025030  bkl      nv        0               0               0   \n",
       "2  ISIC_0026769  bkl      nv        0               0               0   \n",
       "3  ISIC_0025661  bkl     mel        0               0               1   \n",
       "4  ISIC_0031633  bkl      nv        0               0               0   \n",
       "\n",
       "   correct_danger   age   sex localization dx_type  \n",
       "0               0  80.0  male        scalp   histo  \n",
       "1               1  80.0  male        scalp   histo  \n",
       "2               1  80.0  male        scalp   histo  \n",
       "3               0  80.0  male        scalp   histo  \n",
       "4               1  75.0  male          ear   histo  "
      ]
     },
     "execution_count": 109,
     "metadata": {},
     "output_type": "execute_result"
    }
   ],
   "source": [
    "dfj = df_dx.merge(df_pt[['image_id', 'age', 'sex', 'localization', 'dx_type']], on='image_id')\n",
    "dfj.head()"
   ]
  },
  {
   "cell_type": "code",
   "execution_count": 110,
   "metadata": {},
   "outputs": [],
   "source": [
    "corr_df = dfj[dfj['correct'] == 1]\n",
    "incorr_df = dfj[dfj['correct'] == 0]"
   ]
  },
  {
   "cell_type": "code",
   "execution_count": 111,
   "metadata": {},
   "outputs": [
    {
     "data": {
      "text/plain": [
       "(4882, 5133)"
      ]
     },
     "execution_count": 111,
     "metadata": {},
     "output_type": "execute_result"
    }
   ],
   "source": [
    "len(corr_df), len(incorr_df)"
   ]
  },
  {
   "cell_type": "code",
   "execution_count": null,
   "metadata": {},
   "outputs": [],
   "source": []
  },
  {
   "cell_type": "code",
   "execution_count": 118,
   "metadata": {},
   "outputs": [
    {
     "data": {
      "text/plain": [
       "male       0.583\n",
       "female     0.463\n",
       "unknown    0.005\n",
       "Name: sex, dtype: float64"
      ]
     },
     "execution_count": 118,
     "metadata": {},
     "output_type": "execute_result"
    }
   ],
   "source": [
    "(corr_df['sex'].value_counts()/len(corr_df)).round(3)\n",
    "(incorr_df['sex'].value_counts()/len(corr_df)).round(3)"
   ]
  },
  {
   "cell_type": "markdown",
   "metadata": {},
   "source": [
    "Incorrect classifications are more likely __male__"
   ]
  },
  {
   "cell_type": "code",
   "execution_count": 114,
   "metadata": {},
   "outputs": [
    {
     "data": {
      "text/plain": [
       "(0, 100)"
      ]
     },
     "execution_count": 114,
     "metadata": {},
     "output_type": "execute_result"
    },
    {
     "data": {
      "image/png": "[encoded data removed]",
      "text/plain": [
       "<Figure size 432x288 with 1 Axes>"
      ]
     },
     "metadata": {
      "needs_background": "light"
     },
     "output_type": "display_data"
    }
   ],
   "source": [
    "corr_df['age'].plot(kind='kde', label='Correct')\n",
    "incorr_df['age'].plot(kind='kde', label='Inorrect')\n",
    "plt.legend()\n",
    "plt.xlim([0, 100])"
   ]
  },
  {
   "cell_type": "markdown",
   "metadata": {},
   "source": [
    "Incorrect classifications are more likely to be __older__"
   ]
  },
  {
   "cell_type": "code",
   "execution_count": 115,
   "metadata": {},
   "outputs": [
    {
     "data": {
      "text/plain": [
       "confocal        7\n",
       "consensus     359\n",
       "follow_up    2541\n",
       "histo        1975\n",
       "Name: dx_type, dtype: int64"
      ]
     },
     "execution_count": 115,
     "metadata": {},
     "output_type": "execute_result"
    }
   ],
   "source": [
    "(corr_df['dx_type'].value_counts()).sort_index()"
   ]
  },
  {
   "cell_type": "code",
   "execution_count": 117,
   "metadata": {},
   "outputs": [
    {
     "data": {
      "text/plain": [
       "confocal       62\n",
       "consensus     543\n",
       "follow_up    1163\n",
       "histo        3365\n",
       "Name: dx_type, dtype: int64"
      ]
     },
     "execution_count": 117,
     "metadata": {},
     "output_type": "execute_result"
    }
   ],
   "source": [
    "(incorr_df['dx_type'].value_counts()).sort_index()"
   ]
  },
  {
   "cell_type": "markdown",
   "metadata": {},
   "source": [
    "Incorrect classifications are more likely to be from a histo test - maybe false designations during the test?"
   ]
  },
  {
   "cell_type": "markdown",
   "metadata": {},
   "source": [
    "localization\n",
    "\n",
    "confusion matrices (dx and binned dx)\n",
    "\n",
    "metric calculations"
   ]
  },
  {
   "cell_type": "code",
   "execution_count": 74,
   "metadata": {},
   "outputs": [
    {
     "data": {
      "text/plain": [
       "nv       6705\n",
       "mel      1113\n",
       "bkl      1099\n",
       "bcc       514\n",
       "akiec     327\n",
       "vasc      142\n",
       "df        115\n",
       "Name: dx, dtype: int64"
      ]
     },
     "execution_count": 74,
     "metadata": {},
     "output_type": "execute_result"
    }
   ],
   "source": [
    "df_pt['dx'].value_counts()"
   ]
  },
  {
   "cell_type": "code",
   "execution_count": null,
   "metadata": {},
   "outputs": [],
   "source": []
  },
  {
   "cell_type": "code",
   "execution_count": 155,
   "metadata": {},
   "outputs": [],
   "source": [
    "chi2_contingency?"
   ]
  },
  {
   "cell_type": "code",
   "execution_count": null,
   "metadata": {},
   "outputs": [],
   "source": []
  },
  {
   "cell_type": "markdown",
   "metadata": {},
   "source": [
    "______"
   ]
  },
  {
   "cell_type": "markdown",
   "metadata": {},
   "source": [
    "### Loading classification results"
   ]
  },
  {
   "cell_type": "markdown",
   "metadata": {},
   "source": [
    "#### From Nicholas - SVM"
   ]
  },
  {
   "cell_type": "markdown",
   "metadata": {},
   "source": [
    "Melanoma vs non-melanoma"
   ]
  },
  {
   "cell_type": "code",
   "execution_count": 40,
   "metadata": {},
   "outputs": [],
   "source": [
    "df_mel = pd.read_csv('ClassifierResults/LogitWrapper_SVMFit.csv')"
   ]
  },
  {
   "cell_type": "code",
   "execution_count": 64,
   "metadata": {},
   "outputs": [],
   "source": [
    "df_mel['Correct'] = (df_mel['Logit_Fit'] == df_mel['Ground_Truth']).astype(int)"
   ]
  },
  {
   "cell_type": "code",
   "execution_count": 57,
   "metadata": {},
   "outputs": [
    {
     "data": {
      "text/plain": [
       "0.8093525179856115"
      ]
     },
     "execution_count": 57,
     "metadata": {},
     "output_type": "execute_result"
    }
   ],
   "source": [
    "df_mel['Correct'].sum()/len(df_mel)"
   ]
  },
  {
   "cell_type": "code",
   "execution_count": 54,
   "metadata": {},
   "outputs": [
    {
     "data": {
      "text/plain": [
       "0.5838323353293413"
      ]
     },
     "execution_count": 54,
     "metadata": {},
     "output_type": "execute_result"
    }
   ],
   "source": [
    "recall_score(y_true=df_mel['Ground_Truth'] , y_pred=df_mel['Logit_Fit'])"
   ]
  },
  {
   "cell_type": "code",
   "execution_count": 62,
   "metadata": {},
   "outputs": [
    {
     "data": {
      "text/plain": [
       "0.8093525179856115"
      ]
     },
     "execution_count": 62,
     "metadata": {},
     "output_type": "execute_result"
    }
   ],
   "source": [
    "accuracy_score(y_true=df_mel['Ground_Truth'] , y_pred=df_mel['Logit_Fit'])"
   ]
  },
  {
   "cell_type": "code",
   "execution_count": 63,
   "metadata": {},
   "outputs": [
    {
     "data": {
      "text/plain": [
       "0    619\n",
       "1    215\n",
       "Name: Logit_Fit, dtype: int64"
      ]
     },
     "execution_count": 63,
     "metadata": {},
     "output_type": "execute_result"
    }
   ],
   "source": [
    "df_mel['Logit_Fit'].value_counts()"
   ]
  },
  {
   "cell_type": "code",
   "execution_count": 65,
   "metadata": {},
   "outputs": [
    {
     "data": {
      "text/plain": [
       "1    675\n",
       "0    159\n",
       "Name: Correct, dtype: int64"
      ]
     },
     "execution_count": 65,
     "metadata": {},
     "output_type": "execute_result"
    }
   ],
   "source": [
    "df_mel['Correct'].value_counts()"
   ]
  },
  {
   "cell_type": "code",
   "execution_count": 69,
   "metadata": {},
   "outputs": [
    {
     "data": {
      "text/plain": [
       "0    500\n",
       "1    334\n",
       "Name: Ground_Truth, dtype: int64"
      ]
     },
     "execution_count": 69,
     "metadata": {},
     "output_type": "execute_result"
    }
   ],
   "source": [
    "df_mel['Ground_Truth'].value_counts()"
   ]
  },
  {
   "cell_type": "code",
   "execution_count": 67,
   "metadata": {},
   "outputs": [
    {
     "data": {
      "text/html": [
       "<div>\n",
       "<style scoped>\n",
       "    .dataframe tbody tr th:only-of-type {\n",
       "        vertical-align: middle;\n",
       "    }\n",
       "\n",
       "    .dataframe tbody tr th {\n",
       "        vertical-align: top;\n",
       "    }\n",
       "\n",
       "    .dataframe thead th {\n",
       "        text-align: right;\n",
       "    }\n",
       "</style>\n",
       "<table border=\"1\" class=\"dataframe\">\n",
       "  <thead>\n",
       "    <tr style=\"text-align: right;\">\n",
       "      <th></th>\n",
       "      <th>Unnamed: 0</th>\n",
       "      <th>Image_ID</th>\n",
       "      <th>One_Class_Pred</th>\n",
       "      <th>Nu_Class_Pred</th>\n",
       "      <th>Logit_Fit</th>\n",
       "      <th>Ground_Truth</th>\n",
       "      <th>Correct</th>\n",
       "    </tr>\n",
       "  </thead>\n",
       "  <tbody>\n",
       "    <tr>\n",
       "      <th>500</th>\n",
       "      <td>1212</td>\n",
       "      <td>ISIC_0030950</td>\n",
       "      <td>1</td>\n",
       "      <td>1</td>\n",
       "      <td>1</td>\n",
       "      <td>1</td>\n",
       "      <td>1</td>\n",
       "    </tr>\n",
       "    <tr>\n",
       "      <th>501</th>\n",
       "      <td>1213</td>\n",
       "      <td>ISIC_0025195</td>\n",
       "      <td>1</td>\n",
       "      <td>1</td>\n",
       "      <td>1</td>\n",
       "      <td>1</td>\n",
       "      <td>1</td>\n",
       "    </tr>\n",
       "    <tr>\n",
       "      <th>502</th>\n",
       "      <td>1218</td>\n",
       "      <td>ISIC_0026652</td>\n",
       "      <td>0</td>\n",
       "      <td>1</td>\n",
       "      <td>1</td>\n",
       "      <td>1</td>\n",
       "      <td>1</td>\n",
       "    </tr>\n",
       "    <tr>\n",
       "      <th>503</th>\n",
       "      <td>1225</td>\n",
       "      <td>ISIC_0029885</td>\n",
       "      <td>1</td>\n",
       "      <td>1</td>\n",
       "      <td>1</td>\n",
       "      <td>1</td>\n",
       "      <td>1</td>\n",
       "    </tr>\n",
       "    <tr>\n",
       "      <th>504</th>\n",
       "      <td>1228</td>\n",
       "      <td>ISIC_0025409</td>\n",
       "      <td>0</td>\n",
       "      <td>1</td>\n",
       "      <td>1</td>\n",
       "      <td>1</td>\n",
       "      <td>1</td>\n",
       "    </tr>\n",
       "    <tr>\n",
       "      <th>...</th>\n",
       "      <td>...</td>\n",
       "      <td>...</td>\n",
       "      <td>...</td>\n",
       "      <td>...</td>\n",
       "      <td>...</td>\n",
       "      <td>...</td>\n",
       "      <td>...</td>\n",
       "    </tr>\n",
       "    <tr>\n",
       "      <th>829</th>\n",
       "      <td>23121</td>\n",
       "      <td>ISIC_0030261</td>\n",
       "      <td>1</td>\n",
       "      <td>0</td>\n",
       "      <td>0</td>\n",
       "      <td>1</td>\n",
       "      <td>0</td>\n",
       "    </tr>\n",
       "    <tr>\n",
       "      <th>830</th>\n",
       "      <td>23141</td>\n",
       "      <td>ISIC_0028994</td>\n",
       "      <td>1</td>\n",
       "      <td>0</td>\n",
       "      <td>0</td>\n",
       "      <td>1</td>\n",
       "      <td>0</td>\n",
       "    </tr>\n",
       "    <tr>\n",
       "      <th>831</th>\n",
       "      <td>23181</td>\n",
       "      <td>ISIC_0032696</td>\n",
       "      <td>1</td>\n",
       "      <td>0</td>\n",
       "      <td>0</td>\n",
       "      <td>1</td>\n",
       "      <td>0</td>\n",
       "    </tr>\n",
       "    <tr>\n",
       "      <th>832</th>\n",
       "      <td>23191</td>\n",
       "      <td>ISIC_0029466</td>\n",
       "      <td>1</td>\n",
       "      <td>0</td>\n",
       "      <td>0</td>\n",
       "      <td>1</td>\n",
       "      <td>0</td>\n",
       "    </tr>\n",
       "    <tr>\n",
       "      <th>833</th>\n",
       "      <td>6770</td>\n",
       "      <td>ISIC_0027057</td>\n",
       "      <td>0</td>\n",
       "      <td>1</td>\n",
       "      <td>1</td>\n",
       "      <td>1</td>\n",
       "      <td>1</td>\n",
       "    </tr>\n",
       "  </tbody>\n",
       "</table>\n",
       "<p>334 rows × 7 columns</p>\n",
       "</div>"
      ],
      "text/plain": [
       "     Unnamed: 0      Image_ID  One_Class_Pred  Nu_Class_Pred  Logit_Fit  \\\n",
       "500        1212  ISIC_0030950               1              1          1   \n",
       "501        1213  ISIC_0025195               1              1          1   \n",
       "502        1218  ISIC_0026652               0              1          1   \n",
       "503        1225  ISIC_0029885               1              1          1   \n",
       "504        1228  ISIC_0025409               0              1          1   \n",
       "..          ...           ...             ...            ...        ...   \n",
       "829       23121  ISIC_0030261               1              0          0   \n",
       "830       23141  ISIC_0028994               1              0          0   \n",
       "831       23181  ISIC_0032696               1              0          0   \n",
       "832       23191  ISIC_0029466               1              0          0   \n",
       "833        6770  ISIC_0027057               0              1          1   \n",
       "\n",
       "     Ground_Truth  Correct  \n",
       "500             1        1  \n",
       "501             1        1  \n",
       "502             1        1  \n",
       "503             1        1  \n",
       "504             1        1  \n",
       "..            ...      ...  \n",
       "829             1        0  \n",
       "830             1        0  \n",
       "831             1        0  \n",
       "832             1        0  \n",
       "833             1        1  \n",
       "\n",
       "[334 rows x 7 columns]"
      ]
     },
     "execution_count": 67,
     "metadata": {},
     "output_type": "execute_result"
    }
   ],
   "source": [
    "df_mel[df_mel['Ground_Truth'] == 1]"
   ]
  },
  {
   "cell_type": "markdown",
   "metadata": {},
   "source": [
    "And multiclass classification using SVM"
   ]
  },
  {
   "cell_type": "code",
   "execution_count": 16,
   "metadata": {},
   "outputs": [],
   "source": [
    "df_mult = pd.read_csv('ClassifierResults/SVM_AllCat.csv')"
   ]
  },
  {
   "cell_type": "code",
   "execution_count": 27,
   "metadata": {},
   "outputs": [
    {
     "data": {
      "text/html": [
       "<div>\n",
       "<style scoped>\n",
       "    .dataframe tbody tr th:only-of-type {\n",
       "        vertical-align: middle;\n",
       "    }\n",
       "\n",
       "    .dataframe tbody tr th {\n",
       "        vertical-align: top;\n",
       "    }\n",
       "\n",
       "    .dataframe thead th {\n",
       "        text-align: right;\n",
       "    }\n",
       "</style>\n",
       "<table border=\"1\" class=\"dataframe\">\n",
       "  <thead>\n",
       "    <tr style=\"text-align: right;\">\n",
       "      <th></th>\n",
       "      <th>Unnamed: 0</th>\n",
       "      <th>Image_ID</th>\n",
       "      <th>Multi__Class_Pred</th>\n",
       "      <th>Ground_Truth</th>\n",
       "    </tr>\n",
       "  </thead>\n",
       "  <tbody>\n",
       "    <tr>\n",
       "      <th>0</th>\n",
       "      <td>3</td>\n",
       "      <td>ISIC_0026769</td>\n",
       "      <td>1</td>\n",
       "      <td>2</td>\n",
       "    </tr>\n",
       "    <tr>\n",
       "      <th>1</th>\n",
       "      <td>8</td>\n",
       "      <td>ISIC_0029068</td>\n",
       "      <td>4</td>\n",
       "      <td>2</td>\n",
       "    </tr>\n",
       "    <tr>\n",
       "      <th>2</th>\n",
       "      <td>11</td>\n",
       "      <td>ISIC_0025276</td>\n",
       "      <td>4</td>\n",
       "      <td>2</td>\n",
       "    </tr>\n",
       "    <tr>\n",
       "      <th>3</th>\n",
       "      <td>12</td>\n",
       "      <td>ISIC_0029396</td>\n",
       "      <td>4</td>\n",
       "      <td>2</td>\n",
       "    </tr>\n",
       "    <tr>\n",
       "      <th>4</th>\n",
       "      <td>15</td>\n",
       "      <td>ISIC_0032417</td>\n",
       "      <td>4</td>\n",
       "      <td>2</td>\n",
       "    </tr>\n",
       "  </tbody>\n",
       "</table>\n",
       "</div>"
      ],
      "text/plain": [
       "   Unnamed: 0      Image_ID  Multi__Class_Pred  Ground_Truth\n",
       "0           3  ISIC_0026769                  1             2\n",
       "1           8  ISIC_0029068                  4             2\n",
       "2          11  ISIC_0025276                  4             2\n",
       "3          12  ISIC_0029396                  4             2\n",
       "4          15  ISIC_0032417                  4             2"
      ]
     },
     "execution_count": 27,
     "metadata": {},
     "output_type": "execute_result"
    }
   ],
   "source": [
    "df_mult.head()"
   ]
  },
  {
   "cell_type": "markdown",
   "metadata": {},
   "source": [
    "### From Isaac - CNN"
   ]
  },
  {
   "cell_type": "code",
   "execution_count": 19,
   "metadata": {},
   "outputs": [],
   "source": [
    "df_cnn = pd.read_csv('ClassifierResults/test.csv')"
   ]
  },
  {
   "cell_type": "markdown",
   "metadata": {},
   "source": [
    "Stripping off file type to get image ID"
   ]
  },
  {
   "cell_type": "code",
   "execution_count": 24,
   "metadata": {},
   "outputs": [],
   "source": [
    "df_cnn['Image_ID'] = df_cnn['Unnamed: 0'].apply(lambda x: x[:-4])"
   ]
  },
  {
   "cell_type": "code",
   "execution_count": 28,
   "metadata": {},
   "outputs": [
    {
     "data": {
      "text/html": [
       "<div>\n",
       "<style scoped>\n",
       "    .dataframe tbody tr th:only-of-type {\n",
       "        vertical-align: middle;\n",
       "    }\n",
       "\n",
       "    .dataframe tbody tr th {\n",
       "        vertical-align: top;\n",
       "    }\n",
       "\n",
       "    .dataframe thead th {\n",
       "        text-align: right;\n",
       "    }\n",
       "</style>\n",
       "<table border=\"1\" class=\"dataframe\">\n",
       "  <thead>\n",
       "    <tr style=\"text-align: right;\">\n",
       "      <th></th>\n",
       "      <th>Unnamed: 0</th>\n",
       "      <th>prediction</th>\n",
       "      <th>Image_ID</th>\n",
       "    </tr>\n",
       "  </thead>\n",
       "  <tbody>\n",
       "    <tr>\n",
       "      <th>0</th>\n",
       "      <td>ISIC_0024470.jpg</td>\n",
       "      <td>3</td>\n",
       "      <td>ISIC_0024470</td>\n",
       "    </tr>\n",
       "    <tr>\n",
       "      <th>1</th>\n",
       "      <td>ISIC_0024522.jpg</td>\n",
       "      <td>5</td>\n",
       "      <td>ISIC_0024522</td>\n",
       "    </tr>\n",
       "    <tr>\n",
       "      <th>2</th>\n",
       "      <td>ISIC_0024710.jpg</td>\n",
       "      <td>2</td>\n",
       "      <td>ISIC_0024710</td>\n",
       "    </tr>\n",
       "    <tr>\n",
       "      <th>3</th>\n",
       "      <td>ISIC_0024913.jpg</td>\n",
       "      <td>5</td>\n",
       "      <td>ISIC_0024913</td>\n",
       "    </tr>\n",
       "    <tr>\n",
       "      <th>4</th>\n",
       "      <td>ISIC_0025331.jpg</td>\n",
       "      <td>1</td>\n",
       "      <td>ISIC_0025331</td>\n",
       "    </tr>\n",
       "  </tbody>\n",
       "</table>\n",
       "</div>"
      ],
      "text/plain": [
       "         Unnamed: 0  prediction      Image_ID\n",
       "0  ISIC_0024470.jpg           3  ISIC_0024470\n",
       "1  ISIC_0024522.jpg           5  ISIC_0024522\n",
       "2  ISIC_0024710.jpg           2  ISIC_0024710\n",
       "3  ISIC_0024913.jpg           5  ISIC_0024913\n",
       "4  ISIC_0025331.jpg           1  ISIC_0025331"
      ]
     },
     "execution_count": 28,
     "metadata": {},
     "output_type": "execute_result"
    }
   ],
   "source": [
    "df_cnn.head()"
   ]
  },
  {
   "cell_type": "code",
   "execution_count": 80,
   "metadata": {},
   "outputs": [],
   "source": [
    "df_cnn = df_cnn.merge(df_pt[['image_id', 'dx']], left_on='Image_ID', right_on='image_id', how='inner')"
   ]
  },
  {
   "cell_type": "code",
   "execution_count": 93,
   "metadata": {},
   "outputs": [],
   "source": [
    "df_cnn = df_cnn.rename(columns={'dx': 'dx_true_n'})"
   ]
  },
  {
   "cell_type": "code",
   "execution_count": 94,
   "metadata": {},
   "outputs": [
    {
     "data": {
      "text/html": [
       "<div>\n",
       "<style scoped>\n",
       "    .dataframe tbody tr th:only-of-type {\n",
       "        vertical-align: middle;\n",
       "    }\n",
       "\n",
       "    .dataframe tbody tr th {\n",
       "        vertical-align: top;\n",
       "    }\n",
       "\n",
       "    .dataframe thead th {\n",
       "        text-align: right;\n",
       "    }\n",
       "</style>\n",
       "<table border=\"1\" class=\"dataframe\">\n",
       "  <thead>\n",
       "    <tr style=\"text-align: right;\">\n",
       "      <th></th>\n",
       "      <th>Unnamed: 0</th>\n",
       "      <th>prediction</th>\n",
       "      <th>Image_ID</th>\n",
       "      <th>dx_pred_n</th>\n",
       "      <th>image_id</th>\n",
       "      <th>dx_true_n</th>\n",
       "    </tr>\n",
       "  </thead>\n",
       "  <tbody>\n",
       "    <tr>\n",
       "      <th>0</th>\n",
       "      <td>ISIC_0024470.jpg</td>\n",
       "      <td>3</td>\n",
       "      <td>ISIC_0024470</td>\n",
       "      <td>df</td>\n",
       "      <td>ISIC_0024470</td>\n",
       "      <td>akiec</td>\n",
       "    </tr>\n",
       "    <tr>\n",
       "      <th>1</th>\n",
       "      <td>ISIC_0024522.jpg</td>\n",
       "      <td>5</td>\n",
       "      <td>ISIC_0024522</td>\n",
       "      <td>nv</td>\n",
       "      <td>ISIC_0024522</td>\n",
       "      <td>akiec</td>\n",
       "    </tr>\n",
       "    <tr>\n",
       "      <th>2</th>\n",
       "      <td>ISIC_0024710.jpg</td>\n",
       "      <td>2</td>\n",
       "      <td>ISIC_0024710</td>\n",
       "      <td>bkl</td>\n",
       "      <td>ISIC_0024710</td>\n",
       "      <td>akiec</td>\n",
       "    </tr>\n",
       "    <tr>\n",
       "      <th>3</th>\n",
       "      <td>ISIC_0024913.jpg</td>\n",
       "      <td>5</td>\n",
       "      <td>ISIC_0024913</td>\n",
       "      <td>nv</td>\n",
       "      <td>ISIC_0024913</td>\n",
       "      <td>akiec</td>\n",
       "    </tr>\n",
       "    <tr>\n",
       "      <th>4</th>\n",
       "      <td>ISIC_0025331.jpg</td>\n",
       "      <td>1</td>\n",
       "      <td>ISIC_0025331</td>\n",
       "      <td>bcc</td>\n",
       "      <td>ISIC_0025331</td>\n",
       "      <td>akiec</td>\n",
       "    </tr>\n",
       "    <tr>\n",
       "      <th>...</th>\n",
       "      <td>...</td>\n",
       "      <td>...</td>\n",
       "      <td>...</td>\n",
       "      <td>...</td>\n",
       "      <td>...</td>\n",
       "      <td>...</td>\n",
       "    </tr>\n",
       "    <tr>\n",
       "      <th>1487</th>\n",
       "      <td>ISIC_0032409.jpg</td>\n",
       "      <td>5</td>\n",
       "      <td>ISIC_0032409</td>\n",
       "      <td>nv</td>\n",
       "      <td>ISIC_0032409</td>\n",
       "      <td>vasc</td>\n",
       "    </tr>\n",
       "    <tr>\n",
       "      <th>1488</th>\n",
       "      <td>ISIC_0032692.jpg</td>\n",
       "      <td>5</td>\n",
       "      <td>ISIC_0032692</td>\n",
       "      <td>nv</td>\n",
       "      <td>ISIC_0032692</td>\n",
       "      <td>vasc</td>\n",
       "    </tr>\n",
       "    <tr>\n",
       "      <th>1489</th>\n",
       "      <td>ISIC_0032839.jpg</td>\n",
       "      <td>5</td>\n",
       "      <td>ISIC_0032839</td>\n",
       "      <td>nv</td>\n",
       "      <td>ISIC_0032839</td>\n",
       "      <td>vasc</td>\n",
       "    </tr>\n",
       "    <tr>\n",
       "      <th>1490</th>\n",
       "      <td>ISIC_0033230.jpg</td>\n",
       "      <td>5</td>\n",
       "      <td>ISIC_0033230</td>\n",
       "      <td>nv</td>\n",
       "      <td>ISIC_0033230</td>\n",
       "      <td>vasc</td>\n",
       "    </tr>\n",
       "    <tr>\n",
       "      <th>1491</th>\n",
       "      <td>ISIC_0033450.jpg</td>\n",
       "      <td>5</td>\n",
       "      <td>ISIC_0033450</td>\n",
       "      <td>nv</td>\n",
       "      <td>ISIC_0033450</td>\n",
       "      <td>vasc</td>\n",
       "    </tr>\n",
       "  </tbody>\n",
       "</table>\n",
       "<p>1492 rows × 6 columns</p>\n",
       "</div>"
      ],
      "text/plain": [
       "            Unnamed: 0  prediction      Image_ID dx_pred_n      image_id  \\\n",
       "0     ISIC_0024470.jpg           3  ISIC_0024470        df  ISIC_0024470   \n",
       "1     ISIC_0024522.jpg           5  ISIC_0024522        nv  ISIC_0024522   \n",
       "2     ISIC_0024710.jpg           2  ISIC_0024710       bkl  ISIC_0024710   \n",
       "3     ISIC_0024913.jpg           5  ISIC_0024913        nv  ISIC_0024913   \n",
       "4     ISIC_0025331.jpg           1  ISIC_0025331       bcc  ISIC_0025331   \n",
       "...                ...         ...           ...       ...           ...   \n",
       "1487  ISIC_0032409.jpg           5  ISIC_0032409        nv  ISIC_0032409   \n",
       "1488  ISIC_0032692.jpg           5  ISIC_0032692        nv  ISIC_0032692   \n",
       "1489  ISIC_0032839.jpg           5  ISIC_0032839        nv  ISIC_0032839   \n",
       "1490  ISIC_0033230.jpg           5  ISIC_0033230        nv  ISIC_0033230   \n",
       "1491  ISIC_0033450.jpg           5  ISIC_0033450        nv  ISIC_0033450   \n",
       "\n",
       "     dx_true_n  \n",
       "0        akiec  \n",
       "1        akiec  \n",
       "2        akiec  \n",
       "3        akiec  \n",
       "4        akiec  \n",
       "...        ...  \n",
       "1487      vasc  \n",
       "1488      vasc  \n",
       "1489      vasc  \n",
       "1490      vasc  \n",
       "1491      vasc  \n",
       "\n",
       "[1492 rows x 6 columns]"
      ]
     },
     "execution_count": 94,
     "metadata": {},
     "output_type": "execute_result"
    }
   ],
   "source": [
    "df_cnn"
   ]
  },
  {
   "cell_type": "code",
   "execution_count": 89,
   "metadata": {},
   "outputs": [
    {
     "data": {
      "text/plain": [
       "0.3156836461126005"
      ]
     },
     "execution_count": 89,
     "metadata": {},
     "output_type": "execute_result"
    }
   ],
   "source": [
    "(df_cnn['dx_pred_n'] == df_cnn['dx']).astype(int).sum()/len(df_cnn)"
   ]
  },
  {
   "cell_type": "code",
   "execution_count": 33,
   "metadata": {},
   "outputs": [
    {
     "data": {
      "text/html": [
       "<div>\n",
       "<style scoped>\n",
       "    .dataframe tbody tr th:only-of-type {\n",
       "        vertical-align: middle;\n",
       "    }\n",
       "\n",
       "    .dataframe tbody tr th {\n",
       "        vertical-align: top;\n",
       "    }\n",
       "\n",
       "    .dataframe thead th {\n",
       "        text-align: right;\n",
       "    }\n",
       "</style>\n",
       "<table border=\"1\" class=\"dataframe\">\n",
       "  <thead>\n",
       "    <tr style=\"text-align: right;\">\n",
       "      <th></th>\n",
       "      <th>lesion_id</th>\n",
       "      <th>image_id</th>\n",
       "      <th>dx</th>\n",
       "      <th>dx_type</th>\n",
       "      <th>age</th>\n",
       "      <th>sex</th>\n",
       "      <th>localization</th>\n",
       "    </tr>\n",
       "  </thead>\n",
       "  <tbody>\n",
       "    <tr>\n",
       "      <th>0</th>\n",
       "      <td>HAM_0000118</td>\n",
       "      <td>ISIC_0027419</td>\n",
       "      <td>bkl</td>\n",
       "      <td>histo</td>\n",
       "      <td>80.0</td>\n",
       "      <td>male</td>\n",
       "      <td>scalp</td>\n",
       "    </tr>\n",
       "    <tr>\n",
       "      <th>1</th>\n",
       "      <td>HAM_0000118</td>\n",
       "      <td>ISIC_0025030</td>\n",
       "      <td>bkl</td>\n",
       "      <td>histo</td>\n",
       "      <td>80.0</td>\n",
       "      <td>male</td>\n",
       "      <td>scalp</td>\n",
       "    </tr>\n",
       "    <tr>\n",
       "      <th>2</th>\n",
       "      <td>HAM_0002730</td>\n",
       "      <td>ISIC_0026769</td>\n",
       "      <td>bkl</td>\n",
       "      <td>histo</td>\n",
       "      <td>80.0</td>\n",
       "      <td>male</td>\n",
       "      <td>scalp</td>\n",
       "    </tr>\n",
       "    <tr>\n",
       "      <th>3</th>\n",
       "      <td>HAM_0002730</td>\n",
       "      <td>ISIC_0025661</td>\n",
       "      <td>bkl</td>\n",
       "      <td>histo</td>\n",
       "      <td>80.0</td>\n",
       "      <td>male</td>\n",
       "      <td>scalp</td>\n",
       "    </tr>\n",
       "    <tr>\n",
       "      <th>4</th>\n",
       "      <td>HAM_0001466</td>\n",
       "      <td>ISIC_0031633</td>\n",
       "      <td>bkl</td>\n",
       "      <td>histo</td>\n",
       "      <td>75.0</td>\n",
       "      <td>male</td>\n",
       "      <td>ear</td>\n",
       "    </tr>\n",
       "  </tbody>\n",
       "</table>\n",
       "</div>"
      ],
      "text/plain": [
       "     lesion_id      image_id   dx dx_type   age   sex localization\n",
       "0  HAM_0000118  ISIC_0027419  bkl   histo  80.0  male        scalp\n",
       "1  HAM_0000118  ISIC_0025030  bkl   histo  80.0  male        scalp\n",
       "2  HAM_0002730  ISIC_0026769  bkl   histo  80.0  male        scalp\n",
       "3  HAM_0002730  ISIC_0025661  bkl   histo  80.0  male        scalp\n",
       "4  HAM_0001466  ISIC_0031633  bkl   histo  75.0  male          ear"
      ]
     },
     "execution_count": 33,
     "metadata": {},
     "output_type": "execute_result"
    }
   ],
   "source": [
    "df_pt.head()"
   ]
  },
  {
   "cell_type": "code",
   "execution_count": 34,
   "metadata": {},
   "outputs": [
    {
     "data": {
      "text/html": [
       "<div>\n",
       "<style scoped>\n",
       "    .dataframe tbody tr th:only-of-type {\n",
       "        vertical-align: middle;\n",
       "    }\n",
       "\n",
       "    .dataframe tbody tr th {\n",
       "        vertical-align: top;\n",
       "    }\n",
       "\n",
       "    .dataframe thead th {\n",
       "        text-align: right;\n",
       "    }\n",
       "</style>\n",
       "<table border=\"1\" class=\"dataframe\">\n",
       "  <thead>\n",
       "    <tr style=\"text-align: right;\">\n",
       "      <th></th>\n",
       "      <th>lesion_id</th>\n",
       "      <th>image_id</th>\n",
       "      <th>dx</th>\n",
       "      <th>dx_type</th>\n",
       "      <th>age</th>\n",
       "      <th>sex</th>\n",
       "      <th>localization</th>\n",
       "    </tr>\n",
       "  </thead>\n",
       "  <tbody>\n",
       "    <tr>\n",
       "      <th>8</th>\n",
       "      <td>HAM_0005132</td>\n",
       "      <td>ISIC_0025837</td>\n",
       "      <td>bkl</td>\n",
       "      <td>histo</td>\n",
       "      <td>70.0</td>\n",
       "      <td>female</td>\n",
       "      <td>back</td>\n",
       "    </tr>\n",
       "    <tr>\n",
       "      <th>31</th>\n",
       "      <td>HAM_0005772</td>\n",
       "      <td>ISIC_0031159</td>\n",
       "      <td>bkl</td>\n",
       "      <td>histo</td>\n",
       "      <td>60.0</td>\n",
       "      <td>female</td>\n",
       "      <td>face</td>\n",
       "    </tr>\n",
       "    <tr>\n",
       "      <th>60</th>\n",
       "      <td>HAM_0003021</td>\n",
       "      <td>ISIC_0031468</td>\n",
       "      <td>bkl</td>\n",
       "      <td>histo</td>\n",
       "      <td>75.0</td>\n",
       "      <td>female</td>\n",
       "      <td>face</td>\n",
       "    </tr>\n",
       "    <tr>\n",
       "      <th>62</th>\n",
       "      <td>HAM_0000959</td>\n",
       "      <td>ISIC_0029288</td>\n",
       "      <td>bkl</td>\n",
       "      <td>histo</td>\n",
       "      <td>75.0</td>\n",
       "      <td>female</td>\n",
       "      <td>face</td>\n",
       "    </tr>\n",
       "    <tr>\n",
       "      <th>71</th>\n",
       "      <td>HAM_0004341</td>\n",
       "      <td>ISIC_0031967</td>\n",
       "      <td>bkl</td>\n",
       "      <td>histo</td>\n",
       "      <td>70.0</td>\n",
       "      <td>female</td>\n",
       "      <td>scalp</td>\n",
       "    </tr>\n",
       "    <tr>\n",
       "      <th>...</th>\n",
       "      <td>...</td>\n",
       "      <td>...</td>\n",
       "      <td>...</td>\n",
       "      <td>...</td>\n",
       "      <td>...</td>\n",
       "      <td>...</td>\n",
       "      <td>...</td>\n",
       "    </tr>\n",
       "    <tr>\n",
       "      <th>9954</th>\n",
       "      <td>HAM_0001386</td>\n",
       "      <td>ISIC_0027668</td>\n",
       "      <td>akiec</td>\n",
       "      <td>histo</td>\n",
       "      <td>60.0</td>\n",
       "      <td>male</td>\n",
       "      <td>scalp</td>\n",
       "    </tr>\n",
       "    <tr>\n",
       "      <th>9957</th>\n",
       "      <td>HAM_0006587</td>\n",
       "      <td>ISIC_0025780</td>\n",
       "      <td>akiec</td>\n",
       "      <td>histo</td>\n",
       "      <td>70.0</td>\n",
       "      <td>male</td>\n",
       "      <td>face</td>\n",
       "    </tr>\n",
       "    <tr>\n",
       "      <th>9966</th>\n",
       "      <td>HAM_0000361</td>\n",
       "      <td>ISIC_0032199</td>\n",
       "      <td>akiec</td>\n",
       "      <td>histo</td>\n",
       "      <td>60.0</td>\n",
       "      <td>female</td>\n",
       "      <td>face</td>\n",
       "    </tr>\n",
       "    <tr>\n",
       "      <th>10004</th>\n",
       "      <td>HAM_0005579</td>\n",
       "      <td>ISIC_0029309</td>\n",
       "      <td>akiec</td>\n",
       "      <td>histo</td>\n",
       "      <td>80.0</td>\n",
       "      <td>male</td>\n",
       "      <td>face</td>\n",
       "    </tr>\n",
       "    <tr>\n",
       "      <th>10010</th>\n",
       "      <td>HAM_0002867</td>\n",
       "      <td>ISIC_0033084</td>\n",
       "      <td>akiec</td>\n",
       "      <td>histo</td>\n",
       "      <td>40.0</td>\n",
       "      <td>male</td>\n",
       "      <td>abdomen</td>\n",
       "    </tr>\n",
       "  </tbody>\n",
       "</table>\n",
       "<p>1492 rows × 7 columns</p>\n",
       "</div>"
      ],
      "text/plain": [
       "         lesion_id      image_id     dx dx_type   age     sex localization\n",
       "8      HAM_0005132  ISIC_0025837    bkl   histo  70.0  female         back\n",
       "31     HAM_0005772  ISIC_0031159    bkl   histo  60.0  female         face\n",
       "60     HAM_0003021  ISIC_0031468    bkl   histo  75.0  female         face\n",
       "62     HAM_0000959  ISIC_0029288    bkl   histo  75.0  female         face\n",
       "71     HAM_0004341  ISIC_0031967    bkl   histo  70.0  female        scalp\n",
       "...            ...           ...    ...     ...   ...     ...          ...\n",
       "9954   HAM_0001386  ISIC_0027668  akiec   histo  60.0    male        scalp\n",
       "9957   HAM_0006587  ISIC_0025780  akiec   histo  70.0    male         face\n",
       "9966   HAM_0000361  ISIC_0032199  akiec   histo  60.0  female         face\n",
       "10004  HAM_0005579  ISIC_0029309  akiec   histo  80.0    male         face\n",
       "10010  HAM_0002867  ISIC_0033084  akiec   histo  40.0    male      abdomen\n",
       "\n",
       "[1492 rows x 7 columns]"
      ]
     },
     "execution_count": 34,
     "metadata": {},
     "output_type": "execute_result"
    }
   ],
   "source": [
    "df_pt[df_pt['image_id'].isin(df_cnn['Image_ID'].values)]"
   ]
  },
  {
   "cell_type": "code",
   "execution_count": 35,
   "metadata": {},
   "outputs": [
    {
     "data": {
      "text/plain": [
       "1492"
      ]
     },
     "execution_count": 35,
     "metadata": {},
     "output_type": "execute_result"
    }
   ],
   "source": [
    "len(df_cnn)"
   ]
  },
  {
   "cell_type": "code",
   "execution_count": 39,
   "metadata": {},
   "outputs": [
    {
     "data": {
      "text/html": [
       "<div>\n",
       "<style scoped>\n",
       "    .dataframe tbody tr th:only-of-type {\n",
       "        vertical-align: middle;\n",
       "    }\n",
       "\n",
       "    .dataframe tbody tr th {\n",
       "        vertical-align: top;\n",
       "    }\n",
       "\n",
       "    .dataframe thead th {\n",
       "        text-align: right;\n",
       "    }\n",
       "</style>\n",
       "<table border=\"1\" class=\"dataframe\">\n",
       "  <thead>\n",
       "    <tr style=\"text-align: right;\">\n",
       "      <th></th>\n",
       "      <th>lesion_id</th>\n",
       "      <th>image_id</th>\n",
       "      <th>dx</th>\n",
       "      <th>dx_type</th>\n",
       "      <th>age</th>\n",
       "      <th>sex</th>\n",
       "      <th>localization</th>\n",
       "    </tr>\n",
       "  </thead>\n",
       "  <tbody>\n",
       "    <tr>\n",
       "      <th>2</th>\n",
       "      <td>HAM_0002730</td>\n",
       "      <td>ISIC_0026769</td>\n",
       "      <td>bkl</td>\n",
       "      <td>histo</td>\n",
       "      <td>80.0</td>\n",
       "      <td>male</td>\n",
       "      <td>scalp</td>\n",
       "    </tr>\n",
       "    <tr>\n",
       "      <th>7</th>\n",
       "      <td>HAM_0002761</td>\n",
       "      <td>ISIC_0029068</td>\n",
       "      <td>bkl</td>\n",
       "      <td>histo</td>\n",
       "      <td>60.0</td>\n",
       "      <td>male</td>\n",
       "      <td>face</td>\n",
       "    </tr>\n",
       "    <tr>\n",
       "      <th>10</th>\n",
       "      <td>HAM_0001396</td>\n",
       "      <td>ISIC_0025276</td>\n",
       "      <td>bkl</td>\n",
       "      <td>histo</td>\n",
       "      <td>55.0</td>\n",
       "      <td>female</td>\n",
       "      <td>trunk</td>\n",
       "    </tr>\n",
       "    <tr>\n",
       "      <th>11</th>\n",
       "      <td>HAM_0004234</td>\n",
       "      <td>ISIC_0029396</td>\n",
       "      <td>bkl</td>\n",
       "      <td>histo</td>\n",
       "      <td>85.0</td>\n",
       "      <td>female</td>\n",
       "      <td>chest</td>\n",
       "    </tr>\n",
       "    <tr>\n",
       "      <th>14</th>\n",
       "      <td>HAM_0001949</td>\n",
       "      <td>ISIC_0032417</td>\n",
       "      <td>bkl</td>\n",
       "      <td>histo</td>\n",
       "      <td>70.0</td>\n",
       "      <td>male</td>\n",
       "      <td>trunk</td>\n",
       "    </tr>\n",
       "    <tr>\n",
       "      <th>...</th>\n",
       "      <td>...</td>\n",
       "      <td>...</td>\n",
       "      <td>...</td>\n",
       "      <td>...</td>\n",
       "      <td>...</td>\n",
       "      <td>...</td>\n",
       "      <td>...</td>\n",
       "    </tr>\n",
       "    <tr>\n",
       "      <th>9994</th>\n",
       "      <td>HAM_0000193</td>\n",
       "      <td>ISIC_0030877</td>\n",
       "      <td>akiec</td>\n",
       "      <td>histo</td>\n",
       "      <td>60.0</td>\n",
       "      <td>female</td>\n",
       "      <td>face</td>\n",
       "    </tr>\n",
       "    <tr>\n",
       "      <th>10002</th>\n",
       "      <td>HAM_0006442</td>\n",
       "      <td>ISIC_0032947</td>\n",
       "      <td>akiec</td>\n",
       "      <td>histo</td>\n",
       "      <td>70.0</td>\n",
       "      <td>male</td>\n",
       "      <td>hand</td>\n",
       "    </tr>\n",
       "    <tr>\n",
       "      <th>10003</th>\n",
       "      <td>HAM_0004592</td>\n",
       "      <td>ISIC_0029141</td>\n",
       "      <td>akiec</td>\n",
       "      <td>histo</td>\n",
       "      <td>60.0</td>\n",
       "      <td>female</td>\n",
       "      <td>face</td>\n",
       "    </tr>\n",
       "    <tr>\n",
       "      <th>10004</th>\n",
       "      <td>HAM_0005579</td>\n",
       "      <td>ISIC_0029309</td>\n",
       "      <td>akiec</td>\n",
       "      <td>histo</td>\n",
       "      <td>80.0</td>\n",
       "      <td>male</td>\n",
       "      <td>face</td>\n",
       "    </tr>\n",
       "    <tr>\n",
       "      <th>10006</th>\n",
       "      <td>HAM_0004034</td>\n",
       "      <td>ISIC_0024948</td>\n",
       "      <td>akiec</td>\n",
       "      <td>histo</td>\n",
       "      <td>55.0</td>\n",
       "      <td>female</td>\n",
       "      <td>face</td>\n",
       "    </tr>\n",
       "  </tbody>\n",
       "</table>\n",
       "<p>3005 rows × 7 columns</p>\n",
       "</div>"
      ],
      "text/plain": [
       "         lesion_id      image_id     dx dx_type   age     sex localization\n",
       "2      HAM_0002730  ISIC_0026769    bkl   histo  80.0    male        scalp\n",
       "7      HAM_0002761  ISIC_0029068    bkl   histo  60.0    male         face\n",
       "10     HAM_0001396  ISIC_0025276    bkl   histo  55.0  female        trunk\n",
       "11     HAM_0004234  ISIC_0029396    bkl   histo  85.0  female        chest\n",
       "14     HAM_0001949  ISIC_0032417    bkl   histo  70.0    male        trunk\n",
       "...            ...           ...    ...     ...   ...     ...          ...\n",
       "9994   HAM_0000193  ISIC_0030877  akiec   histo  60.0  female         face\n",
       "10002  HAM_0006442  ISIC_0032947  akiec   histo  70.0    male         hand\n",
       "10003  HAM_0004592  ISIC_0029141  akiec   histo  60.0  female         face\n",
       "10004  HAM_0005579  ISIC_0029309  akiec   histo  80.0    male         face\n",
       "10006  HAM_0004034  ISIC_0024948  akiec   histo  55.0  female         face\n",
       "\n",
       "[3005 rows x 7 columns]"
      ]
     },
     "execution_count": 39,
     "metadata": {},
     "output_type": "execute_result"
    }
   ],
   "source": [
    "df_pt[df_pt['image_id'].isin(df_mult['Image_ID'].values)]"
   ]
  },
  {
   "cell_type": "code",
   "execution_count": 70,
   "metadata": {},
   "outputs": [],
   "source": [
    "dx_map_I = {\n",
    "    0: 'akiec',\n",
    "    1: 'bcc',\n",
    "    2: 'bkl',\n",
    "    3: 'df',\n",
    "    4: 'mel',\n",
    "    5: 'nv',\n",
    "    6: 'vasc'\n",
    "}\n",
    "\n",
    "dx_map_N = {\n",
    "    0: 'akiec',\n",
    "    1: 'bcc',\n",
    "    2: 'bkl',\n",
    "    3: 'df',\n",
    "    4: 'nv',\n",
    "    5: 'vasc',\n",
    "    6: 'mel'\n",
    "}"
   ]
  },
  {
   "cell_type": "raw",
   "metadata": {},
   "source": [
    "df_cnn"
   ]
  },
  {
   "cell_type": "code",
   "execution_count": 91,
   "metadata": {},
   "outputs": [],
   "source": [
    "df_mult['dx_pred_n'] = df_mult['Multi__Class_Pred'].map(dx_map_N)\n",
    "df_mult['dx_true_n'] = df_mult['Ground_Truth'].map(dx_map_N)\n",
    "\n",
    "df_cnn['dx_pred_n'] = df_cnn['prediction'].map(dx_map_I)\n"
   ]
  },
  {
   "cell_type": "code",
   "execution_count": null,
   "metadata": {},
   "outputs": [],
   "source": []
  },
  {
   "cell_type": "code",
   "execution_count": 92,
   "metadata": {},
   "outputs": [
    {
     "data": {
      "text/html": [
       "<div>\n",
       "<style scoped>\n",
       "    .dataframe tbody tr th:only-of-type {\n",
       "        vertical-align: middle;\n",
       "    }\n",
       "\n",
       "    .dataframe tbody tr th {\n",
       "        vertical-align: top;\n",
       "    }\n",
       "\n",
       "    .dataframe thead th {\n",
       "        text-align: right;\n",
       "    }\n",
       "</style>\n",
       "<table border=\"1\" class=\"dataframe\">\n",
       "  <thead>\n",
       "    <tr style=\"text-align: right;\">\n",
       "      <th></th>\n",
       "      <th>Unnamed: 0</th>\n",
       "      <th>Image_ID</th>\n",
       "      <th>Multi__Class_Pred</th>\n",
       "      <th>Ground_Truth</th>\n",
       "      <th>dx_pred_n</th>\n",
       "      <th>dx_true_n</th>\n",
       "    </tr>\n",
       "  </thead>\n",
       "  <tbody>\n",
       "    <tr>\n",
       "      <th>0</th>\n",
       "      <td>3</td>\n",
       "      <td>ISIC_0026769</td>\n",
       "      <td>1</td>\n",
       "      <td>2</td>\n",
       "      <td>bcc</td>\n",
       "      <td>bkl</td>\n",
       "    </tr>\n",
       "    <tr>\n",
       "      <th>1</th>\n",
       "      <td>8</td>\n",
       "      <td>ISIC_0029068</td>\n",
       "      <td>4</td>\n",
       "      <td>2</td>\n",
       "      <td>nv</td>\n",
       "      <td>bkl</td>\n",
       "    </tr>\n",
       "    <tr>\n",
       "      <th>2</th>\n",
       "      <td>11</td>\n",
       "      <td>ISIC_0025276</td>\n",
       "      <td>4</td>\n",
       "      <td>2</td>\n",
       "      <td>nv</td>\n",
       "      <td>bkl</td>\n",
       "    </tr>\n",
       "    <tr>\n",
       "      <th>3</th>\n",
       "      <td>12</td>\n",
       "      <td>ISIC_0029396</td>\n",
       "      <td>4</td>\n",
       "      <td>2</td>\n",
       "      <td>nv</td>\n",
       "      <td>bkl</td>\n",
       "    </tr>\n",
       "    <tr>\n",
       "      <th>4</th>\n",
       "      <td>15</td>\n",
       "      <td>ISIC_0032417</td>\n",
       "      <td>4</td>\n",
       "      <td>2</td>\n",
       "      <td>nv</td>\n",
       "      <td>bkl</td>\n",
       "    </tr>\n",
       "    <tr>\n",
       "      <th>...</th>\n",
       "      <td>...</td>\n",
       "      <td>...</td>\n",
       "      <td>...</td>\n",
       "      <td>...</td>\n",
       "      <td>...</td>\n",
       "      <td>...</td>\n",
       "    </tr>\n",
       "    <tr>\n",
       "      <th>3000</th>\n",
       "      <td>9995</td>\n",
       "      <td>ISIC_0030877</td>\n",
       "      <td>2</td>\n",
       "      <td>0</td>\n",
       "      <td>bkl</td>\n",
       "      <td>akiec</td>\n",
       "    </tr>\n",
       "    <tr>\n",
       "      <th>3001</th>\n",
       "      <td>10003</td>\n",
       "      <td>ISIC_0032947</td>\n",
       "      <td>4</td>\n",
       "      <td>0</td>\n",
       "      <td>nv</td>\n",
       "      <td>akiec</td>\n",
       "    </tr>\n",
       "    <tr>\n",
       "      <th>3002</th>\n",
       "      <td>10004</td>\n",
       "      <td>ISIC_0029141</td>\n",
       "      <td>2</td>\n",
       "      <td>0</td>\n",
       "      <td>bkl</td>\n",
       "      <td>akiec</td>\n",
       "    </tr>\n",
       "    <tr>\n",
       "      <th>3003</th>\n",
       "      <td>10005</td>\n",
       "      <td>ISIC_0029309</td>\n",
       "      <td>4</td>\n",
       "      <td>0</td>\n",
       "      <td>nv</td>\n",
       "      <td>akiec</td>\n",
       "    </tr>\n",
       "    <tr>\n",
       "      <th>3004</th>\n",
       "      <td>10007</td>\n",
       "      <td>ISIC_0024948</td>\n",
       "      <td>4</td>\n",
       "      <td>0</td>\n",
       "      <td>nv</td>\n",
       "      <td>akiec</td>\n",
       "    </tr>\n",
       "  </tbody>\n",
       "</table>\n",
       "<p>3005 rows × 6 columns</p>\n",
       "</div>"
      ],
      "text/plain": [
       "      Unnamed: 0      Image_ID  Multi__Class_Pred  Ground_Truth dx_pred_n  \\\n",
       "0              3  ISIC_0026769                  1             2       bcc   \n",
       "1              8  ISIC_0029068                  4             2        nv   \n",
       "2             11  ISIC_0025276                  4             2        nv   \n",
       "3             12  ISIC_0029396                  4             2        nv   \n",
       "4             15  ISIC_0032417                  4             2        nv   \n",
       "...          ...           ...                ...           ...       ...   \n",
       "3000        9995  ISIC_0030877                  2             0       bkl   \n",
       "3001       10003  ISIC_0032947                  4             0        nv   \n",
       "3002       10004  ISIC_0029141                  2             0       bkl   \n",
       "3003       10005  ISIC_0029309                  4             0        nv   \n",
       "3004       10007  ISIC_0024948                  4             0        nv   \n",
       "\n",
       "     dx_true_n  \n",
       "0          bkl  \n",
       "1          bkl  \n",
       "2          bkl  \n",
       "3          bkl  \n",
       "4          bkl  \n",
       "...        ...  \n",
       "3000     akiec  \n",
       "3001     akiec  \n",
       "3002     akiec  \n",
       "3003     akiec  \n",
       "3004     akiec  \n",
       "\n",
       "[3005 rows x 6 columns]"
      ]
     },
     "execution_count": 92,
     "metadata": {},
     "output_type": "execute_result"
    }
   ],
   "source": [
    "df_mult"
   ]
  },
  {
   "cell_type": "code",
   "execution_count": 238,
   "metadata": {},
   "outputs": [
    {
     "data": {
      "text/plain": [
       "array(['bkl', 'df', 'mel', 'vasc', 'bcc', 'nv', 'akiec'], dtype=object)"
      ]
     },
     "execution_count": 238,
     "metadata": {},
     "output_type": "execute_result"
    }
   ],
   "source": [
    "df_mult['dx_true_n'].unique()"
   ]
  },
  {
   "cell_type": "code",
   "execution_count": 292,
   "metadata": {},
   "outputs": [],
   "source": [
    "import matplotlib as mpl\n",
    "\n",
    "COLOR = 'lightgray'\n",
    "mpl.rcParams['text.color'] = COLOR\n",
    "mpl.rcParams['axes.labelcolor'] = COLOR\n",
    "mpl.rcParams['xtick.color'] = COLOR\n",
    "mpl.rcParams['ytick.color'] = COLOR"
   ]
  },
  {
   "cell_type": "code",
   "execution_count": 302,
   "metadata": {},
   "outputs": [],
   "source": [
    "def get_misclf_stats(df_dx, df_pt, dx_label, pred_dx_label, image_name='image_id'):\n",
    "\n",
    "    df_dx['correct'] = (df_dx[dx_label] == df_dx[pred_dx_label]).astype(int)\n",
    "    df_dx['true_danger_dx'] = (df_dx[dx_label].isin(['mel', 'bcc', 'akiec'])).astype(int)\n",
    "    df_dx['pred_danger_dx'] = (df_dx[pred_dx_label].isin(['mel', 'bcc', 'akiec'])).astype(int)\n",
    "    df_dx['correct_danger'] = (df_dx['true_danger_dx'] == df_dx['pred_danger_dx']).astype(int)\n",
    "\n",
    "    dfj = df_dx.merge(df_pt[[image_name, 'age', 'sex', 'localization', 'dx_type']], on=image_name)\n",
    "    \n",
    "    # Separate into correct and incorrect classifications\n",
    "    corr_df = dfj[dfj['correct'] == 1]\n",
    "    incorr_df = dfj[dfj['correct'] == 0]\n",
    "    \n",
    "    print('N Correct: %d'%len(corr_df))\n",
    "    print('N Incorrect: %d\\n'%len(incorr_df))\n",
    "    \n",
    "    # Age\n",
    "    plt.figure(1)\n",
    "    \n",
    "    corr_df['age'].plot(kind='kde', label='Correct')\n",
    "    incorr_df['age'].plot(kind='kde', label='Incorrect')\n",
    "    leg = plt.legend()\n",
    "    for text in leg.get_texts():\n",
    "        text.set_color(\"black\")\n",
    "    plt.title('Multi-Classification, Age Distributions')\n",
    "    plt.xlabel('Age (years)')\n",
    "    plt.xlim([0, 100])\n",
    "    \n",
    "    print('Correct (age): %.2f'%corr_df['age'].mean())\n",
    "    print('Incorrect (age): %.2f'%incorr_df['age'].mean())\n",
    "    \n",
    "    print('Age p-value: %f\\n'%(ttest_ind(corr_df['age'], incorr_df['age'], nan_policy='omit', equal_var=True).pvalue))\n",
    "    #print('here')\n",
    "    #print((incorr_df['sex'].value_counts()/len(incorr_df)))\n",
    "    \n",
    "    \n",
    "    # Sex\n",
    "    sex_corr = corr_df['sex'].value_counts().sort_index()\n",
    "    sex_incorr = incorr_df['sex'].value_counts().sort_index()\n",
    "    \n",
    "    print('Correct (sex): \\n%s'%(sex_corr/len(corr_df)).round(3))\n",
    "    print('Incorrect (sex): \\n%s'%(sex_incorr/len(incorr_df)).round(3))\n",
    "    \n",
    "    print('p-value: %f'%(chi2_contingency(pd.concat([sex_corr, sex_incorr], axis=1).fillna(0).values)[1]))\n",
    "    \n",
    "    \n",
    "    \n",
    "    # Diagnosis source\n",
    "    dxtype_corr = (corr_df['dx_type'].value_counts()).sort_index()\n",
    "    dxtype_incorr = (incorr_df['dx_type'].value_counts()).sort_index()\n",
    "    \n",
    "    print('\\nCorrect (dx source) \\n%s'%(dxtype_corr/len(corr_df)))\n",
    "    print('\\nIncorrect (dx source) \\n%s'%(dxtype_incorr/len(incorr_df)))\n",
    "    \n",
    "    print('p-value: %f'%(chi2_contingency(pd.concat([dxtype_corr, dxtype_incorr], axis=1).fillna(0).values)[1]))\n",
    "    \n",
    "    \n",
    "    # Localization\n",
    "    top_locs = ['face', 'abdomen', 'upper extremity', 'trunk', 'lower extremity', 'back']\n",
    "    \n",
    "    \n",
    "    dxloc_corr = (corr_df['localization'].value_counts()).sort_index()\n",
    "    dxloc_incorr = (incorr_df['localization'].value_counts()).sort_index()\n",
    "    \n",
    "    \n",
    "    \n",
    "    print('\\nCorrect (localization) \\n%s'%(dxloc_corr/len(corr_df)).round(3))\n",
    "    print('Incorrect (localization \\n%s)'%(dxloc_incorr/len(incorr_df)).round(3))\n",
    "    \n",
    "    \n",
    "    \n",
    "    loc_df = pd.concat([(dxloc_corr/len(corr_df)).loc[top_locs], (dxloc_incorr/len(incorr_df)).loc[top_locs]], axis=1)\n",
    "    loc_df.columns = ['Correct', 'Incorrect']\n",
    "    \n",
    "    #plt.figure(2, figsize=[6, 6])\n",
    "    \n",
    "    loc_df.plot(kind='barh', figsize=[6, 4]) \n",
    "    plt.title(\"Multi-Classification, Location Distributions\")\n",
    "    plt.xlabel(\"Proportion\")\n",
    "    leg = plt.legend()\n",
    "    for text in leg.get_texts():\n",
    "        text.set_color(\"black\")\n",
    "    \n",
    "    \n",
    "    \n",
    "    \n",
    "    print('p-value: %f'%(chi2_contingency(pd.concat([dxloc_corr, dxloc_incorr], axis=1).fillna(0).values)[1]))\n",
    "    \n",
    "    \n",
    "    \n",
    "    print('\\n\\n------ Checking \"danger\" level -------\\n\\n')\n",
    "    \n",
    "    \n",
    "    \n",
    "    # Separate into correct and incorrect classifications\n",
    "    corr_df = dfj[dfj['correct_danger'] == 1]\n",
    "    incorr_df = dfj[dfj['correct_danger'] == 0]\n",
    "    \n",
    "    print('N Correct: %d'%len(corr_df))\n",
    "    print('N Incorrect: %d\\n'%len(incorr_df))\n",
    "    \n",
    "    # Age\n",
    "    \n",
    "    \n",
    "    plt.figure(3)\n",
    "    \n",
    "    corr_df['age'].plot(kind='kde', label='Correct')\n",
    "    incorr_df['age'].plot(kind='kde', label='Incorrect')\n",
    "    plt.title('Binned \"Danger\", Age Distributions')\n",
    "    plt.xlabel('Age (years)')\n",
    "    leg = plt.legend()\n",
    "    for text in leg.get_texts():\n",
    "        text.set_color(\"black\")\n",
    "    plt.xlim([0, 100])\n",
    "    \n",
    "    print('Correct (age): %.2f'%corr_df['age'].mean())\n",
    "    print('Incorrect (age): %.2f'%incorr_df['age'].mean())\n",
    "    \n",
    "    print('Age p-value: %f\\n'%(ttest_ind(corr_df['age'], incorr_df['age'], nan_policy='omit', equal_var=True).pvalue))\n",
    "    #print('here')\n",
    "    #print((incorr_df['sex'].value_counts()/len(incorr_df)))\n",
    "    \n",
    "    \n",
    "    # Sex\n",
    "    sex_corr = corr_df['sex'].value_counts().sort_index()\n",
    "    sex_incorr = incorr_df['sex'].value_counts().sort_index()\n",
    "    \n",
    "    print('Correct (sex): \\n%s'%(sex_corr/len(corr_df)).round(3))\n",
    "    print('Incorrect (sex): \\n%s'%(sex_incorr/len(incorr_df)).round(3))\n",
    "    \n",
    "    print('p-value: %f'%(chi2_contingency(pd.concat([sex_corr, sex_incorr], axis=1).fillna(0).values)[1]))\n",
    "    \n",
    "    \n",
    "    \n",
    "    # Diagnosis source\n",
    "    dxtype_corr = (corr_df['dx_type'].value_counts()).sort_index()\n",
    "    dxtype_incorr = (incorr_df['dx_type'].value_counts()).sort_index()\n",
    "    \n",
    "    print('\\nCorrect (dx source) \\n%s'%(dxtype_corr/len(corr_df)))\n",
    "    print('\\nIncorrect (dx source) \\n%s'%(dxtype_incorr/len(incorr_df)))\n",
    "    \n",
    "    print('p-value: %f'%(chi2_contingency(pd.concat([dxtype_corr, dxtype_incorr], axis=1).fillna(0).values)[1]))\n",
    "    \n",
    "    \n",
    "    # Localization\n",
    "    top_locs = ['face', 'abdomen', 'upper extremity', 'trunk', 'lower extremity', 'back']\n",
    "    \n",
    "    \n",
    "    dxloc_corr = (corr_df['localization'].value_counts()).sort_index()\n",
    "    dxloc_incorr = (incorr_df['localization'].value_counts()).sort_index()\n",
    "    \n",
    "    \n",
    "    \n",
    "    loc_df = pd.concat([(dxloc_corr/len(corr_df)).loc[top_locs], (dxloc_incorr/len(incorr_df)).loc[top_locs]], axis=1)\n",
    "    loc_df.columns = ['Correct', 'Incorrect']\n",
    "    \n",
    "    plt.figure(4)\n",
    "    loc_df.plot(kind='barh', figsize=[6, 4]) \n",
    "    plt.title('Binned \"Danger\", Locations')\n",
    "    plt.xlabel('Proportion')\n",
    "    leg = plt.legend()\n",
    "    for text in leg.get_texts():\n",
    "        text.set_color(\"black\")\n",
    "    \n",
    "    print('\\nCorrect (localization) \\n%s'%(dxloc_corr/len(corr_df)).round(3))\n",
    "    print('Incorrect (localization \\n%s)'%(dxloc_incorr/len(incorr_df)).round(3))\n",
    "    \n",
    "    \n",
    "    print('p-value: %f'%(chi2_contingency(pd.concat([dxloc_corr, dxloc_incorr], axis=1).fillna(0).values)[1]))\n",
    "    \n",
    "    \n",
    "    \n",
    "    \n",
    "    \n",
    "    "
   ]
  },
  {
   "cell_type": "markdown",
   "metadata": {},
   "source": [
    "CNN"
   ]
  },
  {
   "cell_type": "code",
   "execution_count": 303,
   "metadata": {
    "scrolled": false
   },
   "outputs": [
    {
     "name": "stdout",
     "output_type": "stream",
     "text": [
      "N Correct: 471\n",
      "N Incorrect: 1021\n",
      "\n",
      "Correct (age): 49.27\n",
      "Incorrect (age): 52.46\n",
      "Age p-value: 0.000408\n",
      "\n",
      "Correct (sex): \n",
      "female     0.480\n",
      "male       0.510\n",
      "unknown    0.011\n",
      "Name: sex, dtype: float64\n",
      "Incorrect (sex): \n",
      "female     0.405\n",
      "male       0.592\n",
      "unknown    0.003\n",
      "Name: sex, dtype: float64\n",
      "p-value: 0.003136\n",
      "\n",
      "Correct (dx source) \n",
      "confocal     0.004246\n",
      "consensus    0.084926\n",
      "follow_up    0.619958\n",
      "histo        0.290870\n",
      "Name: dx_type, dtype: float64\n",
      "\n",
      "Incorrect (dx source) \n",
      "confocal     0.005877\n",
      "consensus    0.080313\n",
      "follow_up    0.458374\n",
      "histo        0.455436\n",
      "Name: dx_type, dtype: float64\n",
      "p-value: 0.000000\n",
      "\n",
      "Correct (localization) \n",
      "abdomen            0.136\n",
      "back               0.180\n",
      "chest              0.021\n",
      "ear                0.008\n",
      "face               0.047\n",
      "foot               0.030\n",
      "genital            0.004\n",
      "hand               0.006\n",
      "lower extremity    0.206\n",
      "neck               0.013\n",
      "scalp              0.015\n",
      "trunk              0.214\n",
      "unknown            0.032\n",
      "upper extremity    0.087\n",
      "Name: localization, dtype: float64\n",
      "Incorrect (localization \n",
      "abdomen            0.097\n",
      "acral              0.001\n",
      "back               0.214\n",
      "chest              0.032\n",
      "ear                0.005\n",
      "face               0.081\n",
      "foot               0.036\n",
      "genital            0.003\n",
      "hand               0.011\n",
      "lower extremity    0.205\n",
      "neck               0.015\n",
      "scalp              0.012\n",
      "trunk              0.153\n",
      "unknown            0.025\n",
      "upper extremity    0.110\n",
      "Name: localization, dtype: float64)\n",
      "p-value: 0.033869\n",
      "\n",
      "\n",
      "------ Checking \"danger\" level -------\n",
      "\n",
      "\n",
      "N Correct: 1237\n",
      "N Incorrect: 255\n",
      "\n",
      "Correct (age): 49.04\n",
      "Incorrect (age): 63.08\n",
      "Age p-value: 0.000000\n",
      "\n",
      "Correct (sex): \n",
      "female     0.439\n",
      "male       0.555\n",
      "unknown    0.006\n",
      "Name: sex, dtype: float64\n",
      "Incorrect (sex): \n",
      "female    0.38\n",
      "male      0.62\n",
      "Name: sex, dtype: float64\n",
      "p-value: 0.085389\n",
      "\n",
      "Correct (dx source) \n",
      "confocal     0.005659\n",
      "consensus    0.096200\n",
      "follow_up    0.594988\n",
      "histo        0.303153\n",
      "Name: dx_type, dtype: float64\n",
      "\n",
      "Incorrect (dx source) \n",
      "confocal     0.003922\n",
      "consensus    0.011765\n",
      "follow_up    0.094118\n",
      "histo        0.890196\n",
      "Name: dx_type, dtype: float64\n",
      "p-value: 0.000000\n",
      "\n",
      "Correct (localization) \n",
      "abdomen            0.124\n",
      "acral              0.001\n",
      "back               0.181\n",
      "chest              0.023\n",
      "ear                0.005\n",
      "face               0.049\n",
      "foot               0.034\n",
      "genital            0.004\n",
      "hand               0.010\n",
      "lower extremity    0.224\n",
      "neck               0.014\n",
      "scalp              0.010\n",
      "trunk              0.199\n",
      "unknown            0.031\n",
      "upper extremity    0.092\n",
      "Name: localization, dtype: float64\n",
      "Incorrect (localization \n",
      "abdomen            0.035\n",
      "back               0.314\n",
      "chest              0.055\n",
      "ear                0.012\n",
      "face               0.176\n",
      "foot               0.035\n",
      "hand               0.008\n",
      "lower extremity    0.114\n",
      "neck               0.016\n",
      "scalp              0.027\n",
      "trunk              0.043\n",
      "unknown            0.012\n",
      "upper extremity    0.153\n",
      "Name: localization, dtype: float64)\n",
      "p-value: 0.000000\n"
     ]
    },
    {
     "data": {
      "image/png": "[encoded data removed]",
      "text/plain": [
       "<Figure size 432x288 with 1 Axes>"
      ]
     },
     "metadata": {
      "needs_background": "dark"
     },
     "output_type": "display_data"
    },
    {
     "data": {
      "image/png": "[encoded data removed]",
      "text/plain": [
       "<Figure size 432x288 with 1 Axes>"
      ]
     },
     "metadata": {
      "needs_background": "dark"
     },
     "output_type": "display_data"
    },
    {
     "data": {
      "image/png": "[encoded data removed]",
      "text/plain": [
       "<Figure size 432x288 with 1 Axes>"
      ]
     },
     "metadata": {
      "needs_background": "dark"
     },
     "output_type": "display_data"
    },
    {
     "data": {
      "text/plain": [
       "<Figure size 432x288 with 0 Axes>"
      ]
     },
     "metadata": {},
     "output_type": "display_data"
    },
    {
     "data": {
      "image/png": "[encoded data removed]",
      "text/plain": [
       "<Figure size 432x288 with 1 Axes>"
      ]
     },
     "metadata": {
      "needs_background": "dark"
     },
     "output_type": "display_data"
    }
   ],
   "source": [
    "get_misclf_stats(df_cnn, df_pt, dx_label='dx_true_n', pred_dx_label='dx_pred_n')"
   ]
  },
  {
   "cell_type": "code",
   "execution_count": 251,
   "metadata": {},
   "outputs": [],
   "source": [
    "df_mult = df_mult.rename(columns={'Image_ID': 'image_id'})"
   ]
  },
  {
   "cell_type": "code",
   "execution_count": 304,
   "metadata": {
    "scrolled": false
   },
   "outputs": [
    {
     "name": "stdout",
     "output_type": "stream",
     "text": [
      "N Correct: 2164\n",
      "N Incorrect: 841\n",
      "\n",
      "Correct (age): 48.26\n",
      "Incorrect (age): 61.53\n",
      "Age p-value: 0.000000\n",
      "\n",
      "Correct (sex): \n",
      "female     0.484\n",
      "male       0.509\n",
      "unknown    0.007\n",
      "Name: sex, dtype: float64\n",
      "Incorrect (sex): \n",
      "female     0.395\n",
      "male       0.604\n",
      "unknown    0.001\n",
      "Name: sex, dtype: float64\n",
      "p-value: 0.000005\n",
      "\n",
      "Correct (dx source) \n",
      "confocal     0.006932\n",
      "consensus    0.073013\n",
      "follow_up    0.507856\n",
      "histo        0.412200\n",
      "Name: dx_type, dtype: float64\n",
      "\n",
      "Incorrect (dx source) \n",
      "confocal     0.011891\n",
      "consensus    0.131986\n",
      "histo        0.856124\n",
      "Name: dx_type, dtype: float64\n",
      "p-value: 0.000000\n",
      "\n",
      "Correct (localization) \n",
      "abdomen            0.126\n",
      "back               0.218\n",
      "chest              0.029\n",
      "ear                0.006\n",
      "face               0.041\n",
      "foot               0.036\n",
      "genital            0.006\n",
      "hand               0.009\n",
      "lower extremity    0.218\n",
      "neck               0.010\n",
      "scalp              0.006\n",
      "trunk              0.175\n",
      "unknown            0.031\n",
      "upper extremity    0.089\n",
      "Name: localization, dtype: float64\n",
      "Incorrect (localization \n",
      "abdomen            0.069\n",
      "back               0.197\n",
      "chest              0.049\n",
      "ear                0.008\n",
      "face               0.171\n",
      "foot               0.017\n",
      "hand               0.012\n",
      "lower extremity    0.177\n",
      "neck               0.029\n",
      "scalp              0.033\n",
      "trunk              0.059\n",
      "unknown            0.010\n",
      "upper extremity    0.169\n",
      "Name: localization, dtype: float64)\n",
      "p-value: 0.000000\n",
      "\n",
      "\n",
      "------ Checking \"danger\" level -------\n",
      "\n",
      "\n",
      "N Correct: 2479\n",
      "N Incorrect: 526\n",
      "\n",
      "Correct (age): 49.83\n",
      "Incorrect (age): 62.12\n",
      "Age p-value: 0.000000\n",
      "\n",
      "Correct (sex): \n",
      "female     0.475\n",
      "male       0.518\n",
      "unknown    0.006\n",
      "Name: sex, dtype: float64\n",
      "Incorrect (sex): \n",
      "female    0.382\n",
      "male      0.618\n",
      "Name: sex, dtype: float64\n",
      "p-value: 0.000055\n",
      "\n",
      "Correct (dx source) \n",
      "confocal     0.008875\n",
      "consensus    0.104074\n",
      "follow_up    0.443324\n",
      "histo        0.443727\n",
      "Name: dx_type, dtype: float64\n",
      "\n",
      "Incorrect (dx source) \n",
      "confocal     0.005703\n",
      "consensus    0.020913\n",
      "histo        0.973384\n",
      "Name: dx_type, dtype: float64\n",
      "p-value: 0.000000\n",
      "\n",
      "Correct (localization) \n",
      "abdomen            0.123\n",
      "back               0.211\n",
      "chest              0.031\n",
      "ear                0.005\n",
      "face               0.057\n",
      "foot               0.033\n",
      "genital            0.006\n",
      "hand               0.010\n",
      "lower extremity    0.215\n",
      "neck               0.013\n",
      "scalp              0.010\n",
      "trunk              0.163\n",
      "unknown            0.029\n",
      "upper extremity    0.094\n",
      "Name: localization, dtype: float64\n",
      "Incorrect (localization \n",
      "abdomen            0.051\n",
      "back               0.221\n",
      "chest              0.048\n",
      "ear                0.013\n",
      "face               0.173\n",
      "foot               0.017\n",
      "hand               0.008\n",
      "lower extremity    0.165\n",
      "neck               0.029\n",
      "scalp              0.032\n",
      "trunk              0.044\n",
      "unknown            0.006\n",
      "upper extremity    0.194\n",
      "Name: localization, dtype: float64)\n",
      "p-value: 0.000000\n"
     ]
    },
    {
     "data": {
      "image/png": "[encoded data removed]",
      "text/plain": [
       "<Figure size 432x288 with 1 Axes>"
      ]
     },
     "metadata": {
      "needs_background": "dark"
     },
     "output_type": "display_data"
    },
    {
     "data": {
      "image/png": "[encoded data removed]",
      "text/plain": [
       "<Figure size 432x288 with 1 Axes>"
      ]
     },
     "metadata": {
      "needs_background": "dark"
     },
     "output_type": "display_data"
    },
    {
     "data": {
      "image/png": "[encoded data removed]",
      "text/plain": [
       "<Figure size 432x288 with 1 Axes>"
      ]
     },
     "metadata": {
      "needs_background": "dark"
     },
     "output_type": "display_data"
    },
    {
     "data": {
      "text/plain": [
       "<Figure size 432x288 with 0 Axes>"
      ]
     },
     "metadata": {},
     "output_type": "display_data"
    },
    {
     "data": {
      "image/png": "[encoded data removed]",
      "text/plain": [
       "<Figure size 432x288 with 1 Axes>"
      ]
     },
     "metadata": {
      "needs_background": "dark"
     },
     "output_type": "display_data"
    }
   ],
   "source": [
    "get_misclf_stats(df_mult, df_pt, dx_label='dx_true_n', pred_dx_label='dx_pred_n')"
   ]
  },
  {
   "cell_type": "code",
   "execution_count": 253,
   "metadata": {},
   "outputs": [
    {
     "data": {
      "text/plain": [
       "0       0\n",
       "1       0\n",
       "2       0\n",
       "3       0\n",
       "4       0\n",
       "       ..\n",
       "3000    0\n",
       "3001    0\n",
       "3002    0\n",
       "3003    0\n",
       "3004    0\n",
       "Name: correct, Length: 3005, dtype: int64"
      ]
     },
     "execution_count": 253,
     "metadata": {},
     "output_type": "execute_result"
    }
   ],
   "source": [
    "df_mult['correct']"
   ]
  },
  {
   "cell_type": "code",
   "execution_count": null,
   "metadata": {},
   "outputs": [],
   "source": []
  }
 ],
 "metadata": {
  "kernelspec": {
   "display_name": "Python 3",
   "language": "python",
   "name": "python3"
  },
  "language_info": {
   "codemirror_mode": {
    "name": "ipython",
    "version": 3
   },
   "file_extension": ".py",
   "mimetype": "text/x-python",
   "name": "python",
   "nbconvert_exporter": "python",
   "pygments_lexer": "ipython3",
   "version": "3.7.6"
  }
 },
 "nbformat": 4,
 "nbformat_minor": 4
}
